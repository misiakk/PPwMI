{
 "cells": [
  {
   "cell_type": "markdown",
   "metadata": {},
   "source": [
    "# Hacking Incident\n",
    "\n",
    "We're being hacked! We need your help to get a message to the main server.\n",
    "\n",
    "We need you to accomplish 3 tasks:\n",
    "\n",
    "1. Create a Caeser cipher encryption function.\n",
    "2. Create another function that decrypts a Caeser cipher message.\n",
    "\n",
    "We've set up a framework for you to follow here in this notebook. Feel free to use it, or create your own base functions."
   ]
  },
  {
   "cell_type": "markdown",
   "metadata": {},
   "source": [
    "## Encryption Function\n",
    "\n",
    "This function should take in two parameters, the plain text message and the shift number for the Caeser cipher.\n",
    "\n",
    "To create the cipher you will need to create a list of the alphabet. You can either write out the alphabet manually, or use the [string library](https://docs.python.org/3/library/string.html?highlight=string#module-string) to get all the lowercase alphabet. You will first need to run *import string* , and then call the attribute. For example:\n",
    "\n",
    "    import string\n",
    "    alphabet = string.ascii_lowercase\n",
    "    print(alphabet)\n",
    "    print(list(alphabet))\n",
    "    \n",
    "An empty function with some comments is here below for you to fill out:"
   ]
  },
  {
   "cell_type": "code",
   "execution_count": 22,
   "metadata": {
    "collapsed": true
   },
   "outputs": [],
   "source": [
    "def encrypt(text ,shift):\n",
    "    '''\n",
    "    INPUT: text as a string and an integer for the shift value.\n",
    "    OUTPUT: The shifted text after being run through the Caeser cipher.\n",
    "    '''\n",
    "    \n",
    "    # Create a normal plain alphabet\n",
    "    alphabet = []\n",
    "    for i in range(97,123):\n",
    "        alphabet.append(chr(i))\n",
    "    # Create a shifted version of this alphabet \n",
    "    shifted = []\n",
    "    shift = shift%len(alphabet) # kind of 'security' if someone give the number > len(alphabet)\n",
    "    for i in range(len(alphabet)):\n",
    "        # when there is need to start fromb the beginning of an alphabet \n",
    "        if i+shift > len(alphabet)-1:  \n",
    "            shifted.append(alphabet[i-len(alphabet)+shift]) # reverse rather than go forward\n",
    "        else:\n",
    "            shifted.append(alphabet[i+shift]) # add shifted element to 'shifted alphabet'  \n",
    "  \n",
    "\n",
    "    splitted_text = text.lower().split()\n",
    "    encrypted_text = []\n",
    "    for word in splitted_text: \n",
    "        encrypted_word = []\n",
    "        for letter in word:\n",
    "            idx = alphabet.index(letter) # find index of specific letter in normal alphabet \n",
    "            encrypted_word.append(shifted[idx]) # add to word letter with the same index as above from shifted alphabet\n",
    "        encrypted_text.append(\"\".join(encrypted_word))\n",
    " \n",
    "    encrypted_text = \" \".join(encrypted_text)\n",
    "          \n",
    "    return encrypted_text"
   ]
  },
  {
   "cell_type": "markdown",
   "metadata": {},
   "source": [
    "** An example input and output: **"
   ]
  },
  {
   "cell_type": "code",
   "execution_count": 26,
   "metadata": {},
   "outputs": [],
   "source": [
    "key = 5\n",
    "encrypted_text = encrypt('Get this message to the main server', key)"
   ]
  },
  {
   "cell_type": "markdown",
   "metadata": {},
   "source": [
    "## Decryption\n",
    "\n",
    "Now create a new function that will \"decrypt\" a shifted message. It should basically do the reverse of the encryption function. The process will be very similar as your previous function, but the alphabets will be switched."
   ]
  },
  {
   "cell_type": "code",
   "execution_count": 24,
   "metadata": {
    "collapsed": true
   },
   "outputs": [],
   "source": [
    "def decrypt(text,shift):\n",
    "    '''\n",
    "    INPUT: A shifted message and the integer shift value\n",
    "    OUTPUT: The plain text original message.\n",
    "    '''\n",
    "    # Create a normal plain alphabet\n",
    "    alphabet = []\n",
    "    for i in range(97,123):\n",
    "        alphabet.append(chr(i))\n",
    "    # Create a shifted version of this alphabet \n",
    "    shifted = []\n",
    "    shift = shift%len(alphabet)\n",
    "    for i in range(len(alphabet)):\n",
    "        if i+shift > len(alphabet)-1:\n",
    "            shifted.append(alphabet[i-len(alphabet)+shift])\n",
    "        else:\n",
    "            shifted.append(alphabet[i+shift])\n",
    "  \n",
    "\n",
    "    splitted_text = text.lower().split()\n",
    "    decrypted_text = []\n",
    "    for word in splitted_text:\n",
    "        decrypted_word = []\n",
    "        for letter in word:\n",
    "            idx = shifted.index(letter) # find index of specific letter in shifted alphabet \n",
    "            decrypted_word.append(alphabet[idx]) # add to word letter with the same index as above from normal alphabet\n",
    "        decrypted_text.append(\"\".join(decrypted_word))\n",
    " \n",
    "    decrypted_text = \" \".join(decrypted_text)\n",
    "          \n",
    "    return decrypted_text\n",
    "    \n",
    "    "
   ]
  },
  {
   "cell_type": "markdown",
   "metadata": {},
   "source": [
    "** Here is an example output: **"
   ]
  },
  {
   "cell_type": "code",
   "execution_count": 28,
   "metadata": {},
   "outputs": [
    {
     "data": {
      "text/plain": [
       "'ljy ymnx rjxxflj yt ymj rfns xjwajw'"
      ]
     },
     "execution_count": 28,
     "metadata": {},
     "output_type": "execute_result"
    }
   ],
   "source": [
    "encrypted_text"
   ]
  },
  {
   "cell_type": "code",
   "execution_count": 27,
   "metadata": {},
   "outputs": [
    {
     "data": {
      "text/plain": [
       "'get this message to the main server'"
      ]
     },
     "execution_count": 27,
     "metadata": {},
     "output_type": "execute_result"
    }
   ],
   "source": [
    "decrypt(encrypted_text,key)"
   ]
  }
 ],
 "metadata": {
  "kernelspec": {
   "display_name": "Python 3",
   "language": "python",
   "name": "python3"
  },
  "language_info": {
   "codemirror_mode": {
    "name": "ipython",
    "version": 3
   },
   "file_extension": ".py",
   "mimetype": "text/x-python",
   "name": "python",
   "nbconvert_exporter": "python",
   "pygments_lexer": "ipython3",
   "version": "3.11.5"
  }
 },
 "nbformat": 4,
 "nbformat_minor": 2
}
